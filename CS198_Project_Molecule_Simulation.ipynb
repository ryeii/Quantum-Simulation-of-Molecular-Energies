{
 "cells": [
  {
   "cell_type": "code",
   "execution_count": 1,
   "id": "825bd216-778d-4db5-8491-d55c5259f714",
   "metadata": {},
   "outputs": [
    {
     "name": "stdout",
     "output_type": "stream",
     "text": [
      "Requirement already satisfied: qiskit in /opt/conda/lib/python3.8/site-packages (0.39.2)\n",
      "Requirement already satisfied: qiskit-aer==0.11.1 in /opt/conda/lib/python3.8/site-packages (from qiskit) (0.11.1)\n",
      "Requirement already satisfied: qiskit-ibmq-provider==0.19.2 in /opt/conda/lib/python3.8/site-packages (from qiskit) (0.19.2)\n",
      "Requirement already satisfied: qiskit-terra==0.22.2 in /opt/conda/lib/python3.8/site-packages (from qiskit) (0.22.2)\n",
      "Requirement already satisfied: scipy>=1.0 in /opt/conda/lib/python3.8/site-packages (from qiskit-aer==0.11.1->qiskit) (1.8.0)\n",
      "Requirement already satisfied: numpy>=1.16.3 in /opt/conda/lib/python3.8/site-packages (from qiskit-aer==0.11.1->qiskit) (1.22.4)\n",
      "Requirement already satisfied: websockets>=10.0 in /opt/conda/lib/python3.8/site-packages (from qiskit-ibmq-provider==0.19.2->qiskit) (10.4)\n",
      "Requirement already satisfied: websocket-client>=1.0.1 in /opt/conda/lib/python3.8/site-packages (from qiskit-ibmq-provider==0.19.2->qiskit) (1.3.2)\n",
      "Requirement already satisfied: python-dateutil>=2.8.0 in /opt/conda/lib/python3.8/site-packages (from qiskit-ibmq-provider==0.19.2->qiskit) (2.8.2)\n",
      "Requirement already satisfied: urllib3>=1.21.1 in /opt/conda/lib/python3.8/site-packages (from qiskit-ibmq-provider==0.19.2->qiskit) (1.26.9)\n",
      "Requirement already satisfied: requests>=2.19 in /opt/conda/lib/python3.8/site-packages (from qiskit-ibmq-provider==0.19.2->qiskit) (2.27.1)\n",
      "Requirement already satisfied: requests-ntlm>=1.1.0 in /opt/conda/lib/python3.8/site-packages (from qiskit-ibmq-provider==0.19.2->qiskit) (1.1.0)\n",
      "Requirement already satisfied: retworkx>=0.11.0 in /opt/conda/lib/python3.8/site-packages (from qiskit-terra==0.22.2->qiskit) (0.11.0)\n",
      "Requirement already satisfied: psutil>=5 in /opt/conda/lib/python3.8/site-packages (from qiskit-terra==0.22.2->qiskit) (5.9.0)\n",
      "Requirement already satisfied: sympy>=1.3 in /opt/conda/lib/python3.8/site-packages (from qiskit-terra==0.22.2->qiskit) (1.10.1)\n",
      "Requirement already satisfied: ply>=3.10 in /opt/conda/lib/python3.8/site-packages (from qiskit-terra==0.22.2->qiskit) (3.11)\n",
      "Requirement already satisfied: dill>=0.3 in /opt/conda/lib/python3.8/site-packages (from qiskit-terra==0.22.2->qiskit) (0.3.4)\n",
      "Requirement already satisfied: stevedore>=3.0.0 in /opt/conda/lib/python3.8/site-packages (from qiskit-terra==0.22.2->qiskit) (3.5.0)\n",
      "Requirement already satisfied: tweedledum<2.0,>=1.1 in /opt/conda/lib/python3.8/site-packages (from qiskit-terra==0.22.2->qiskit) (1.1.1)\n",
      "Requirement already satisfied: symengine>=0.9 in /opt/conda/lib/python3.8/site-packages (from qiskit-terra==0.22.2->qiskit) (0.9.2)\n",
      "Requirement already satisfied: six>=1.5 in /opt/conda/lib/python3.8/site-packages (from python-dateutil>=2.8.0->qiskit-ibmq-provider==0.19.2->qiskit) (1.16.0)\n",
      "Requirement already satisfied: certifi>=2017.4.17 in /opt/conda/lib/python3.8/site-packages (from requests>=2.19->qiskit-ibmq-provider==0.19.2->qiskit) (2021.10.8)\n",
      "Requirement already satisfied: idna<4,>=2.5 in /opt/conda/lib/python3.8/site-packages (from requests>=2.19->qiskit-ibmq-provider==0.19.2->qiskit) (3.3)\n",
      "Requirement already satisfied: charset-normalizer~=2.0.0 in /opt/conda/lib/python3.8/site-packages (from requests>=2.19->qiskit-ibmq-provider==0.19.2->qiskit) (2.0.12)\n",
      "Requirement already satisfied: ntlm-auth>=1.0.2 in /opt/conda/lib/python3.8/site-packages (from requests-ntlm>=1.1.0->qiskit-ibmq-provider==0.19.2->qiskit) (1.5.0)\n",
      "Requirement already satisfied: cryptography>=1.3 in /opt/conda/lib/python3.8/site-packages (from requests-ntlm>=1.1.0->qiskit-ibmq-provider==0.19.2->qiskit) (36.0.2)\n",
      "Requirement already satisfied: cffi>=1.12 in /opt/conda/lib/python3.8/site-packages (from cryptography>=1.3->requests-ntlm>=1.1.0->qiskit-ibmq-provider==0.19.2->qiskit) (1.15.0)\n",
      "Requirement already satisfied: pycparser in /opt/conda/lib/python3.8/site-packages (from cffi>=1.12->cryptography>=1.3->requests-ntlm>=1.1.0->qiskit-ibmq-provider==0.19.2->qiskit) (2.21)\n",
      "Requirement already satisfied: pbr!=2.1.0,>=2.0.0 in /opt/conda/lib/python3.8/site-packages (from stevedore>=3.0.0->qiskit-terra==0.22.2->qiskit) (5.8.1)\n",
      "Requirement already satisfied: mpmath>=0.19 in /opt/conda/lib/python3.8/site-packages (from sympy>=1.3->qiskit-terra==0.22.2->qiskit) (1.2.1)\n"
     ]
    }
   ],
   "source": [
    "!pip install qiskit\n",
    "\n",
    "import numpy as np\n",
    "\n",
    "from qiskit import QuantumCircuit, assemble, Aer\n",
    "from qiskit.visualization import plot_histogram\n",
    "from qiskit.tools.visualization import circuit_drawer, array_to_latex\n",
    "from qiskit import QuantumRegister, ClassicalRegister, QuantumCircuit\n",
    "import qiskit.quantum_info as qi\n",
    "from qiskit.quantum_info import Statevector"
   ]
  },
  {
   "cell_type": "code",
   "execution_count": 2,
   "id": "2a9af4fa-2dfb-4efd-add1-1cda0aa54abf",
   "metadata": {},
   "outputs": [
    {
     "data": {
      "image/png": "[encoded data removed]",
      "text/plain": [
       "<Figure size 568.052x204.68 with 1 Axes>"
      ]
     },
     "execution_count": 2,
     "metadata": {},
     "output_type": "execute_result"
    }
   ],
   "source": [
    "from qiskit import QuantumRegister, ClassicalRegister, QuantumCircuit\n",
    "from numpy import pi\n",
    "\n",
    "## Test circuit\n",
    "qreg_q = QuantumRegister(2, 'q')\n",
    "creg_c = ClassicalRegister(2, 'c')\n",
    "circuit = QuantumCircuit(qreg_q, creg_c)\n",
    "\n",
    "circuit.rx(pi, qreg_q[0])\n",
    "circuit.ry(pi / 2, qreg_q[1])\n",
    "circuit.rx(-pi / 2, qreg_q[0])\n",
    "circuit.cx(qreg_q[1], qreg_q[0])\n",
    "circuit.rz(pi / 5, qreg_q[0])\n",
    "circuit.cx(qreg_q[1], qreg_q[0])\n",
    "circuit.rx(pi / 2, qreg_q[0])\n",
    "circuit.ry(-pi / 2, qreg_q[1])\n",
    "circuit.measure(qreg_q[1], creg_c[1])\n",
    "circuit.measure(qreg_q[0], creg_c[0])\n",
    "\n",
    "circuit.draw()"
   ]
  },
  {
   "cell_type": "code",
   "execution_count": 3,
   "id": "ca54c1a4-ebdd-4b9e-879f-3231dfb6d518",
   "metadata": {},
   "outputs": [
    {
     "name": "stderr",
     "output_type": "stream",
     "text": [
      "<frozen importlib._bootstrap>:219: RuntimeWarning: scipy._lib.messagestream.MessageStream size changed, may indicate binary incompatibility. Expected 56 from C header, got 64 from PyObject\n"
     ]
    },
    {
     "name": "stdout",
     "output_type": "stream",
     "text": [
      "{'10': 967, '01': 9033}\n"
     ]
    }
   ],
   "source": [
    "## Test simulation\n",
    "sim = Aer.get_backend('aer_simulator')\n",
    "res = sim.run(circuit, shots=10000).result()\n",
    "counts = res.get_counts()\n",
    "plot_histogram(counts)\n",
    "print(counts)"
   ]
  },
  {
   "cell_type": "code",
   "execution_count": 4,
   "id": "0d1afb3c-1338-4f92-b484-152e5dd6fbb3",
   "metadata": {},
   "outputs": [
    {
     "name": "stdout",
     "output_type": "stream",
     "text": [
      "[[ 1  0  0  0]\n",
      " [ 0 -1  0  0]\n",
      " [ 0  0  1  0]\n",
      " [ 0  0  0 -1]]\n",
      "[[ 1  0  0  0]\n",
      " [ 0  1  0  0]\n",
      " [ 0  0 -1  0]\n",
      " [ 0  0  0 -1]]\n",
      "[[ 1  0  0  0]\n",
      " [ 0 -1  0  0]\n",
      " [ 0  0 -1  0]\n",
      " [ 0  0  0  1]]\n",
      "[[0 0 0 1]\n",
      " [0 0 1 0]\n",
      " [0 1 0 0]\n",
      " [1 0 0 0]]\n",
      "[[ 0. -0. -0.  1.]\n",
      " [ 0.  0. -1. -0.]\n",
      " [ 0. -1.  0. -0.]\n",
      " [ 1.  0.  0.  0.]]\n"
     ]
    }
   ],
   "source": [
    "## Define and calculate operation matrices\n",
    "RZ = np.array([[1, 0],\n",
    "               [0, -1]])\n",
    "RX = np.array([[0, 1],\n",
    "               [1, 0]])\n",
    "RY = np.array([[0, np.imag(0 - 1j)],\n",
    "               [np.imag(0 + 1j), 0]])\n",
    "I = np.array([[1, 0],\n",
    "              [0, 1]])\n",
    "Z0 = np.kron(I, RZ)\n",
    "Z1 = np.kron(RZ, I)\n",
    "Z0Z1 = np.kron(RZ, RZ)\n",
    "X0X1 = np.kron(RX, RX)\n",
    "Y0Y1 = np.kron(RY, RY)\n",
    "\n",
    "print(Z0)\n",
    "print(Z1)\n",
    "print(Z0Z1)\n",
    "print(X0X1)\n",
    "print(Y0Y1)"
   ]
  },
  {
   "cell_type": "code",
   "execution_count": 5,
   "id": "66af1a7f-5aab-4b0e-990f-eaef56976b14",
   "metadata": {},
   "outputs": [
    {
     "name": "stdout",
     "output_type": "stream",
     "text": [
      "[0 0 1 0]\n",
      "[0 1 0 0]\n",
      "[ 0. -1.  0.  0.]\n",
      "[[ 1  0  0  0]\n",
      " [ 0 -1  0  0]\n",
      " [ 0  0 -1  0]\n",
      " [ 0  0  0  1]]\n"
     ]
    }
   ],
   "source": [
    "# Test operation matrices\n",
    "v = np.array([0, 0, 1, 0])\n",
    "print(np.matmul(v, Z0))\n",
    "print(np.matmul(v, X0X1))\n",
    "print(np.matmul(v, Y0Y1))\n",
    "print(Z0Z1)"
   ]
  },
  {
   "cell_type": "code",
   "execution_count": 6,
   "id": "4535a0ee-aa87-49ea-8686-1699d8da30c5",
   "metadata": {},
   "outputs": [],
   "source": [
    "## Import Hamiltonian Coefficients\n",
    "Hc=[[0.20,2.8489,0.5678,-1.4508,0.6799,0.0791,0.0791\n",
    "],[0.25,2.1868,0.5449,-1.2870,0.6719,0.0798,0.0798\n",
    "],[0.30,1.7252,0.5215,-1.1458,0.6631,0.0806,0.0806\n",
    "],[0.35,1.3827,0.4982,-1.0226,0.6537,0.0815,0.0815\n",
    "],[0.40,-0.2047,0.4754,-0.9145,0.6438,0.0825,0.0825\n",
    "],[0.45,-0.2677,0.4534,-0.8194,0.6336,0.0835,0.0835\n",
    "],[0.50,-0.3202,0.4325,-0.7355,0.6233,0.0846,0.0846\n",
    "],[0.55,-0.3642,0.4125,-0.6612,0.6129,0.0858,0.0858\n",
    "],[0.60,-0.4012,0.3937,-0.5950,0.6025,0.0870,0.0870\n",
    "],[0.65,-0.4323,0.3760,-0.5358,0.5921,0.0883,0.0883\n",
    "],[0.70,-0.4584,0.3593,-0.4826,0.5818,0.0896,0.0896\n",
    "],[0.75,-0.4804,0.3435,-0.4347,0.5716,0.0910,0.0910\n",
    "],[0.80,-0.4989,0.3288,-0.3915,0.5616,0.0925,0.0925\n",
    "],[0.85,-0.5143,0.3149,-0.3523,0.5518,0.0939,0.0939\n",
    "],[0.90,-0.5271,0.3018,-0.3168,0.5421,0.0954,0.0954\n",
    "],[0.95,-0.5377,0.2895,-0.2845,0.5327,0.0970,0.0970\n",
    "],[1.00,-0.5463,0.2779,-0.2550,0.5235,0.0986,0.0986\n",
    "],[1.05,-0.5533,0.2669,-0.2282,0.5146,0.1002,0.1002\n",
    "],[1.10,-0.5588,0.2565,-0.2036,0.5059,0.1018,0.1018\n",
    "],[1.15,-0.5631,0.2467,-0.1810,0.4974,0.1034,0.1034\n",
    "],[1.20,-0.5663,0.2374,-0.1603,0.4892,0.1050,0.1050\n",
    "],[1.25,-0.5685,0.2286,-0.1413,0.4812,0.1067,0.1067\n",
    "],[1.30,-0.5699,0.2203,-0.1238,0.4735,0.1083,0.1083\n",
    "],[1.35,-0.5706,0.2123,-0.1077,0.4660,0.1100,0.1100\n",
    "],[1.40,-0.5707,0.2048,-0.0929,0.4588,0.1116,0.1116\n",
    "],[1.45,-0.5702,0.1976,-0.0792,0.4518,0.1133,0.1133\n",
    "],[1.50,-0.5693,0.1908,-0.0666,0.4451,0.1149,0.1149\n",
    "],[1.55,-0.5679,0.1843,-0.0549,0.4386,0.1165,0.1165\n",
    "],[1.60,-0.5663,0.1782,-0.0442,0.4323,0.1181,0.1181\n",
    "],[1.65,-0.5643,0.1723,-0.0342,0.4262,0.1196,0.1196\n",
    "],[1.70,-0.5621,0.1667,-0.0251,0.4204,0.1211,0.1211\n",
    "],[1.75,-0.5597,0.1615,-0.0166,0.4148,0.1226,0.1226\n",
    "],[1.80,-0.5571,0.1565,-0.0088,0.4094,0.1241,0.1241\n",
    "],[1.85,-0.5544,0.1517,-0.0015,0.4042,0.1256,0.1256\n",
    "],[1.90,-0.5516,0.1472,0.0052,0.3992,0.1270,0.1270\n",
    "],[1.95,-0.5488,0.1430,0.0114,0.3944,0.1284,0.1284\n",
    "],[2.00,-0.5458,0.1390,0.0171,0.3898,0.1297,0.1297\n",
    "],[2.05,-0.5429,0.1352,0.0223,0.3853,0.1310,0.1310\n",
    "],[2.10,-0.5399,0.1316,0.0272,0.3811,0.1323,0.1323\n",
    "],[2.15,-0.5369,0.1282,0.0317,0.3769,0.1335,0.1335\n",
    "],[2.20,-0.5339,0.1251,0.0359,0.3730,0.1347,0.1347\n",
    "],[2.25,-0.5310,0.1221,0.0397,0.3692,0.1359,0.1359\n",
    "],[2.30,-0.5280,0.1193,0.0432,0.3655,0.1370,0.1370\n",
    "],[2.35,-0.5251,0.1167,0.0465,0.3620,0.1381,0.1381\n",
    "],[2.40,-0.5223,0.1142,0.0495,0.3586,0.1392,0.1392\n",
    "],[2.45,-0.5195,0.1119,0.0523,0.3553,0.1402,0.1402\n",
    "],[2.50,-0.5168,0.1098,0.0549,0.3521,0.1412,0.1412\n",
    "],[2.55,-0.5141,0.1078,0.0572,0.3491,0.1422,0.1422\n",
    "],[2.60,-0.5114,0.1059,0.0594,0.3461,0.1432,0.1432\n",
    "],[2.65,-0.5089,0.1042,0.0614,0.3433,0.1441,0.1441\n",
    "],[2.70,-0.5064,0.1026,0.0632,0.3406,0.1450,0.1450\n",
    "],[2.75,-0.5039,0.1011,0.0649,0.3379,0.1458,0.1458\n",
    "],[2.80,-0.5015,0.0997,0.0665,0.3354,0.1467,0.1467\n",
    "],[2.85,-0.4992,0.0984,0.0679,0.3329,0.1475,0.1475]]"
   ]
  },
  {
   "cell_type": "code",
   "execution_count": 7,
   "id": "6c832cea-f98f-439e-b48d-ecd3347dc6a7",
   "metadata": {},
   "outputs": [
    {
     "name": "stdout",
     "output_type": "stream",
     "text": [
      "[[ 1.11022302e-16  0.00000000e+00  0.00000000e+00  1.82000000e-01]\n",
      " [ 0.00000000e+00 -1.83020000e+00  0.00000000e+00  0.00000000e+00]\n",
      " [ 0.00000000e+00  0.00000000e+00 -2.73800000e-01  0.00000000e+00]\n",
      " [ 1.82000000e-01  0.00000000e+00  0.00000000e+00  1.82400000e-01]]\n"
     ]
    }
   ],
   "source": [
    "# Test energy calculation\n",
    "for i in Hc:\n",
    "    if i[0] == 0.75:\n",
    "        g0 = i[1]\n",
    "        g1 = i[2]\n",
    "        g2 = i[3]\n",
    "        g3 = i[4]\n",
    "        g4 = i[5]\n",
    "        g5 = i[6]\n",
    "\n",
    "Hmol = (g0 * np.kron( I, I) + # g0 * I\n",
    "g1 * Z0 +\n",
    "g2 * Z1 +\n",
    "g3 * Z0Z1 +\n",
    "g4 * Y0Y1 +\n",
    "g5 * X0X1)\n",
    "\n",
    "print(Hmol)"
   ]
  },
  {
   "cell_type": "code",
   "execution_count": 8,
   "id": "69c30aaf-5061-4966-b094-5e9aaeb375f8",
   "metadata": {},
   "outputs": [
    {
     "name": "stdout",
     "output_type": "stream",
     "text": [
      "[{'10': 10000}, {'01': 11, '10': 9989}, {'01': 32, '10': 9968}, {'01': 90, '10': 9910}, {'01': 166, '10': 9834}, {'01': 225, '10': 9775}, {'01': 365, '10': 9635}, {'01': 487, '10': 9513}, {'01': 631, '10': 9369}, {'10': 9186, '01': 814}, {'01': 975, '10': 9025}, {'01': 1190, '10': 8810}, {'10': 8622, '01': 1378}, {'01': 1574, '10': 8426}, {'01': 1804, '10': 8196}, {'01': 2097, '10': 7903}, {'10': 7645, '01': 2355}, {'10': 7341, '01': 2659}, {'10': 7115, '01': 2885}, {'01': 3231, '10': 6769}, {'01': 3465, '10': 6535}, {'01': 3840, '10': 6160}, {'01': 4123, '10': 5877}, {'01': 4381, '10': 5619}, {'01': 4835, '10': 5165}, {'10': 4809, '01': 5191}, {'01': 5388, '10': 4612}, {'10': 4274, '01': 5726}, {'01': 6101, '10': 3899}, {'10': 3690, '01': 6310}, {'10': 3377, '01': 6623}, {'10': 2987, '01': 7013}, {'01': 7208, '10': 2792}, {'10': 2481, '01': 7519}, {'10': 2193, '01': 7807}, {'10': 2002, '01': 7998}, {'10': 1673, '01': 8327}, {'10': 1387, '01': 8613}, {'01': 8734, '10': 1266}, {'01': 8976, '10': 1024}, {'10': 860, '01': 9140}, {'10': 742, '01': 9258}, {'10': 567, '01': 9433}, {'10': 448, '01': 9552}, {'10': 312, '01': 9688}, {'10': 194, '01': 9806}, {'10': 109, '01': 9891}, {'10': 54, '01': 9946}, {'10': 17, '01': 9983}, {'10': 5, '01': 9995}, {'01': 10000}, {'10': 14, '01': 9986}, {'10': 83, '01': 9917}, {'10': 145, '01': 9855}, {'10': 209, '01': 9791}, {'10': 316, '01': 9684}, {'10': 434, '01': 9566}, {'10': 586, '01': 9414}, {'10': 743, '01': 9257}, {'01': 9096, '10': 904}, {'10': 1091, '01': 8909}, {'01': 8702, '10': 1298}, {'10': 1543, '01': 8457}, {'01': 8347, '10': 1653}, {'10': 2026, '01': 7974}, {'10': 2192, '01': 7808}, {'10': 2527, '01': 7473}, {'10': 2761, '01': 7239}, {'01': 6982, '10': 3018}, {'01': 6636, '10': 3364}, {'01': 6364, '10': 3636}, {'10': 4019, '01': 5981}, {'10': 4330, '01': 5670}, {'10': 4594, '01': 5406}, {'01': 5084, '10': 4916}, {'10': 5246, '01': 4754}, {'10': 5572, '01': 4428}, {'01': 4133, '10': 5867}, {'01': 3769, '10': 6231}, {'10': 6440, '01': 3560}, {'01': 3167, '10': 6833}, {'10': 7077, '01': 2923}, {'10': 7341, '01': 2659}, {'01': 2375, '10': 7625}, {'01': 2076, '10': 7924}, {'01': 1832, '10': 8168}, {'01': 1518, '10': 8482}, {'10': 8566, '01': 1434}, {'01': 1167, '10': 8833}, {'01': 982, '10': 9018}, {'01': 817, '10': 9183}, {'01': 663, '10': 9337}, {'01': 483, '10': 9517}, {'01': 345, '10': 9655}, {'01': 244, '10': 9756}, {'01': 168, '10': 9832}, {'01': 82, '10': 9918}, {'01': 44, '10': 9956}, {'01': 13, '10': 9987}, {'10': 10000}]\n"
     ]
    }
   ],
   "source": [
    "## Iterating through theta's\n",
    "\n",
    "## run simulation\n",
    "def get_energy(cir):\n",
    "    sim = Aer.get_backend('aer_simulator')\n",
    "    res = sim.run(cir, shots=10000).result()\n",
    "    counts = res.get_counts()\n",
    "    return counts\n",
    "\n",
    "\n",
    "r = []\n",
    "for i in range(100):\n",
    "    theta = -pi+(i/99)*(2*pi)\n",
    "    ## Redefining circuit\n",
    "    qreg_q = QuantumRegister(2, 'q')\n",
    "    creg_c = ClassicalRegister(2, 'c')\n",
    "    circuit = QuantumCircuit(qreg_q, creg_c)\n",
    "\n",
    "    circuit.rx(pi, qreg_q[0])\n",
    "    circuit.ry(pi / 2, qreg_q[1])\n",
    "    circuit.rx(-pi / 2, qreg_q[0])\n",
    "    circuit.cx(qreg_q[1], qreg_q[0])\n",
    "    circuit.rz(theta, qreg_q[0])\n",
    "    circuit.cx(qreg_q[1], qreg_q[0])\n",
    "    circuit.rx(pi / 2, qreg_q[0])\n",
    "    circuit.ry(-pi / 2, qreg_q[1])\n",
    "    circuit.measure(qreg_q[1], creg_c[1])\n",
    "    circuit.measure(qreg_q[0], creg_c[0])\n",
    "    \n",
    "    r.append(get_energy(circuit))\n",
    "print(r)\n"
   ]
  },
  {
   "cell_type": "code",
   "execution_count": 9,
   "id": "b8c6f47f-8042-4ded-8125-78b73e432d37",
   "metadata": {},
   "outputs": [
    {
     "name": "stdout",
     "output_type": "stream",
     "text": [
      "[{'10': 1.0}, {'01': 0.0011, '10': 0.9989}, {'01': 0.0032, '10': 0.9968}, {'01': 0.009, '10': 0.991}, {'01': 0.0166, '10': 0.9834}, {'01': 0.0225, '10': 0.9775}, {'01': 0.0365, '10': 0.9635}, {'01': 0.0487, '10': 0.9513}, {'01': 0.0631, '10': 0.9369}, {'10': 0.9186, '01': 0.0814}, {'01': 0.0975, '10': 0.9025}, {'01': 0.119, '10': 0.881}, {'10': 0.8622, '01': 0.1378}, {'01': 0.1574, '10': 0.8426}, {'01': 0.1804, '10': 0.8196}, {'01': 0.2097, '10': 0.7903}, {'10': 0.7645, '01': 0.2355}, {'10': 0.7341, '01': 0.2659}, {'10': 0.7115, '01': 0.2885}, {'01': 0.3231, '10': 0.6769}, {'01': 0.3465, '10': 0.6535}, {'01': 0.384, '10': 0.616}, {'01': 0.4123, '10': 0.5877}, {'01': 0.4381, '10': 0.5619}, {'01': 0.4835, '10': 0.5165}, {'10': 0.4809, '01': 0.5191}, {'01': 0.5388, '10': 0.4612}, {'10': 0.4274, '01': 0.5726}, {'01': 0.6101, '10': 0.3899}, {'10': 0.369, '01': 0.631}, {'10': 0.3377, '01': 0.6623}, {'10': 0.2987, '01': 0.7013}, {'01': 0.7208, '10': 0.2792}, {'10': 0.2481, '01': 0.7519}, {'10': 0.2193, '01': 0.7807}, {'10': 0.2002, '01': 0.7998}, {'10': 0.1673, '01': 0.8327}, {'10': 0.1387, '01': 0.8613}, {'01': 0.8734, '10': 0.1266}, {'01': 0.8976, '10': 0.1024}, {'10': 0.086, '01': 0.914}, {'10': 0.0742, '01': 0.9258}, {'10': 0.0567, '01': 0.9433}, {'10': 0.0448, '01': 0.9552}, {'10': 0.0312, '01': 0.9688}, {'10': 0.0194, '01': 0.9806}, {'10': 0.0109, '01': 0.9891}, {'10': 0.0054, '01': 0.9946}, {'10': 0.0017, '01': 0.9983}, {'10': 0.0005, '01': 0.9995}, {'01': 1.0}, {'10': 0.0014, '01': 0.9986}, {'10': 0.0083, '01': 0.9917}, {'10': 0.0145, '01': 0.9855}, {'10': 0.0209, '01': 0.9791}, {'10': 0.0316, '01': 0.9684}, {'10': 0.0434, '01': 0.9566}, {'10': 0.0586, '01': 0.9414}, {'10': 0.0743, '01': 0.9257}, {'01': 0.9096, '10': 0.0904}, {'10': 0.1091, '01': 0.8909}, {'01': 0.8702, '10': 0.1298}, {'10': 0.1543, '01': 0.8457}, {'01': 0.8347, '10': 0.1653}, {'10': 0.2026, '01': 0.7974}, {'10': 0.2192, '01': 0.7808}, {'10': 0.2527, '01': 0.7473}, {'10': 0.2761, '01': 0.7239}, {'01': 0.6982, '10': 0.3018}, {'01': 0.6636, '10': 0.3364}, {'01': 0.6364, '10': 0.3636}, {'10': 0.4019, '01': 0.5981}, {'10': 0.433, '01': 0.567}, {'10': 0.4594, '01': 0.5406}, {'01': 0.5084, '10': 0.4916}, {'10': 0.5246, '01': 0.4754}, {'10': 0.5572, '01': 0.4428}, {'01': 0.4133, '10': 0.5867}, {'01': 0.3769, '10': 0.6231}, {'10': 0.644, '01': 0.356}, {'01': 0.3167, '10': 0.6833}, {'10': 0.7077, '01': 0.2923}, {'10': 0.7341, '01': 0.2659}, {'01': 0.2375, '10': 0.7625}, {'01': 0.2076, '10': 0.7924}, {'01': 0.1832, '10': 0.8168}, {'01': 0.1518, '10': 0.8482}, {'10': 0.8566, '01': 0.1434}, {'01': 0.1167, '10': 0.8833}, {'01': 0.0982, '10': 0.9018}, {'01': 0.0817, '10': 0.9183}, {'01': 0.0663, '10': 0.9337}, {'01': 0.0483, '10': 0.9517}, {'01': 0.0345, '10': 0.9655}, {'01': 0.0244, '10': 0.9756}, {'01': 0.0168, '10': 0.9832}, {'01': 0.0082, '10': 0.9918}, {'01': 0.0044, '10': 0.9956}, {'01': 0.0013, '10': 0.9987}, {'10': 1.0}]\n"
     ]
    }
   ],
   "source": [
    "## Converting each result distribution to probablity\n",
    "for d in r:\n",
    "    s = sum(d.values())\n",
    "    for key in d:\n",
    "        d[key] = d[key]/s\n",
    "\n",
    "print(r)"
   ]
  },
  {
   "cell_type": "code",
   "execution_count": 10,
   "id": "b1e24ee8-1ec4-4a61-9e59-f43ffd29d3a4",
   "metadata": {},
   "outputs": [
    {
     "name": "stdout",
     "output_type": "stream",
     "text": [
      "[-3.141592653589793, -3.0781261353354537, -3.0146596170811146, -2.951193098826775, -2.887726580572436, -2.8242600623180967, -2.7607935440637577, -2.697327025809418, -2.633860507555079, -2.5703939893007397, -2.5069274710464007, -2.443460952792061, -2.379994434537722, -2.3165279162833827, -2.2530613980290437, -2.1895948797747042, -2.126128361520365, -2.0626618432660258, -1.9991953250116865, -1.9357288067573473, -1.872262288503008, -1.8087957702486688, -1.7453292519943295, -1.6818627337399903, -1.618396215485651, -1.5549296972313116, -1.4914631789769723, -1.4279966607226333, -1.364530142468294, -1.3010636242139548, -1.2375971059596154, -1.1741305877052761, -1.1106640694509369, -1.0471975511965979, -0.9837310329422584, -0.9202645146879194, -0.8567979964335799, -0.7933314781792404, -0.7298649599249014, -0.6663984416705624, -0.6029319234162229, -0.5394654051618835, -0.47599888690754444, -0.412532368653205, -0.34906585039886595, -0.28559933214452693, -0.22213281389018746, -0.158666295635848, -0.09519977738150898, -0.03173325912716951, 0.031733259127169955, 0.09519977738150898, 0.15866629563584844, 0.22213281389018746, 0.2855993321445265, 0.34906585039886595, 0.412532368653205, 0.4759988869075449, 0.5394654051618835, 0.6029319234162225, 0.6663984416705624, 0.7298649599249014, 0.7933314781792409, 0.8567979964335799, 0.9202645146879194, 0.9837310329422584, 1.0471975511965974, 1.1106640694509373, 1.1741305877052763, 1.2375971059596154, 1.3010636242139544, 1.3645301424682934, 1.4279966607226333, 1.4914631789769723, 1.5549296972313122, 1.6183962154856513, 1.6818627337399903, 1.7453292519943293, 1.8087957702486683, 1.8722622885030082, 1.9357288067573473, 1.9991953250116872, 2.062661843266026, 2.126128361520365, 2.1895948797747042, 2.2530613980290433, 2.316527916283383, 2.379994434537722, 2.443460952792061, 2.5069274710464002, 2.5703939893007393, 2.633860507555079, 2.697327025809418, 2.760793544063758, 2.824260062318097, 2.887726580572436, 2.951193098826775, 3.014659617081114, 3.078126135335454, 3.141592653589793]\n",
      "[0, 0.0011, 0.0032, 0.009, 0.0166, 0.0225, 0.0365, 0.0487, 0.0631, 0.0814, 0.0975, 0.119, 0.1378, 0.1574, 0.1804, 0.2097, 0.2355, 0.2659, 0.2885, 0.3231, 0.3465, 0.384, 0.4123, 0.4381, 0.4835, 0.5191, 0.5388, 0.5726, 0.6101, 0.631, 0.6623, 0.7013, 0.7208, 0.7519, 0.7807, 0.7998, 0.8327, 0.8613, 0.8734, 0.8976, 0.914, 0.9258, 0.9433, 0.9552, 0.9688, 0.9806, 0.9891, 0.9946, 0.9983, 0.9995, 1.0, 0.9986, 0.9917, 0.9855, 0.9791, 0.9684, 0.9566, 0.9414, 0.9257, 0.9096, 0.8909, 0.8702, 0.8457, 0.8347, 0.7974, 0.7808, 0.7473, 0.7239, 0.6982, 0.6636, 0.6364, 0.5981, 0.567, 0.5406, 0.5084, 0.4754, 0.4428, 0.4133, 0.3769, 0.356, 0.3167, 0.2923, 0.2659, 0.2375, 0.2076, 0.1832, 0.1518, 0.1434, 0.1167, 0.0982, 0.0817, 0.0663, 0.0483, 0.0345, 0.0244, 0.0168, 0.0082, 0.0044, 0.0013, 0]\n",
      "[1.0, 0.9989, 0.9968, 0.991, 0.9834, 0.9775, 0.9635, 0.9513, 0.9369, 0.9186, 0.9025, 0.881, 0.8622, 0.8426, 0.8196, 0.7903, 0.7645, 0.7341, 0.7115, 0.6769, 0.6535, 0.616, 0.5877, 0.5619, 0.5165, 0.4809, 0.4612, 0.4274, 0.3899, 0.369, 0.3377, 0.2987, 0.2792, 0.2481, 0.2193, 0.2002, 0.1673, 0.1387, 0.1266, 0.1024, 0.086, 0.0742, 0.0567, 0.0448, 0.0312, 0.0194, 0.0109, 0.0054, 0.0017, 0.0005, 0, 0.0014, 0.0083, 0.0145, 0.0209, 0.0316, 0.0434, 0.0586, 0.0743, 0.0904, 0.1091, 0.1298, 0.1543, 0.1653, 0.2026, 0.2192, 0.2527, 0.2761, 0.3018, 0.3364, 0.3636, 0.4019, 0.433, 0.4594, 0.4916, 0.5246, 0.5572, 0.5867, 0.6231, 0.644, 0.6833, 0.7077, 0.7341, 0.7625, 0.7924, 0.8168, 0.8482, 0.8566, 0.8833, 0.9018, 0.9183, 0.9337, 0.9517, 0.9655, 0.9756, 0.9832, 0.9918, 0.9956, 0.9987, 1.0]\n",
      "100\n",
      "100\n",
      "100\n",
      "Ready to plot\n"
     ]
    }
   ],
   "source": [
    "## Separating probablities of '01' and '10' with respect to theta\n",
    "x_axis = [-pi+(i/99)*(2*pi) for i in range(100)]\n",
    "y_axis01 = []\n",
    "y_axis10 = []\n",
    "for d in r:\n",
    "    if '01' in d.keys():\n",
    "        y_axis01.append(d['01'])\n",
    "    else:\n",
    "        y_axis01.append(0)\n",
    "        \n",
    "for d in r:\n",
    "    if '10' in d.keys():\n",
    "        y_axis10.append(d['10'])\n",
    "    else:\n",
    "        y_axis10.append(0)\n",
    "\n",
    "print(x_axis)\n",
    "print(y_axis01)\n",
    "print(y_axis10)\n",
    "print(len(x_axis))\n",
    "print(len(y_axis01))\n",
    "print(len(y_axis10))\n",
    "if len(x_axis) == len(y_axis01) == len(y_axis10):\n",
    "    print(\"Ready to plot\")"
   ]
  },
  {
   "cell_type": "code",
   "execution_count": 14,
   "id": "77481d96-2062-4542-96cb-e248fa415245",
   "metadata": {},
   "outputs": [
    {
     "data": {
      "image/png": "[encoded data removed]",
      "text/plain": [
       "<Figure size 432x288 with 1 Axes>"
      ]
     },
     "metadata": {
      "needs_background": "light"
     },
     "output_type": "display_data"
    }
   ],
   "source": [
    "import matplotlib.pyplot as plt\n",
    "\n",
    "plt.plot(x_axis, y_axis01)\n",
    "plt.plot(x_axis, y_axis10)\n",
    "plt.ylabel('Probability')\n",
    "plt.xlabel('Theta')\n",
    "plt.legend(['res=01', 'res=10'])\n",
    "plt.show()"
   ]
  },
  {
   "cell_type": "code",
   "execution_count": null,
   "id": "c7c82034-99f2-414a-a758-5506805771f9",
   "metadata": {},
   "outputs": [],
   "source": []
  },
  {
   "cell_type": "code",
   "execution_count": null,
   "id": "d8056db6-7af9-49bb-8ab8-39eb235d9b6a",
   "metadata": {},
   "outputs": [],
   "source": []
  }
 ],
 "metadata": {
  "kernelspec": {
   "display_name": "Python 3 (ipykernel)",
   "language": "python",
   "name": "python3"
  },
  "language_info": {
   "codemirror_mode": {
    "name": "ipython",
    "version": 3
   },
   "file_extension": ".py",
   "mimetype": "text/x-python",
   "name": "python",
   "nbconvert_exporter": "python",
   "pygments_lexer": "ipython3",
   "version": "3.8.13"
  },
  "widgets": {
   "application/vnd.jupyter.widget-state+json": {
    "state": {},
    "version_major": 2,
    "version_minor": 0
   }
  }
 },
 "nbformat": 4,
 "nbformat_minor": 5
}
