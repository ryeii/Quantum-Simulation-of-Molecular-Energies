{
 "cells": [
  {
   "cell_type": "code",
   "execution_count": 1,
   "id": "825bd216-778d-4db5-8491-d55c5259f714",
   "metadata": {},
   "outputs": [
    {
     "name": "stdout",
     "output_type": "stream",
     "text": [
      "Requirement already satisfied: qiskit in /opt/conda/lib/python3.8/site-packages (0.39.2)\n",
      "Requirement already satisfied: qiskit-ibmq-provider==0.19.2 in /opt/conda/lib/python3.8/site-packages (from qiskit) (0.19.2)\n",
      "Requirement already satisfied: qiskit-aer==0.11.1 in /opt/conda/lib/python3.8/site-packages (from qiskit) (0.11.1)\n",
      "Requirement already satisfied: qiskit-terra==0.22.2 in /opt/conda/lib/python3.8/site-packages (from qiskit) (0.22.2)\n",
      "Requirement already satisfied: numpy>=1.16.3 in /opt/conda/lib/python3.8/site-packages (from qiskit-aer==0.11.1->qiskit) (1.22.4)\n",
      "Requirement already satisfied: scipy>=1.0 in /opt/conda/lib/python3.8/site-packages (from qiskit-aer==0.11.1->qiskit) (1.8.0)\n",
      "Requirement already satisfied: urllib3>=1.21.1 in /opt/conda/lib/python3.8/site-packages (from qiskit-ibmq-provider==0.19.2->qiskit) (1.26.9)\n",
      "Requirement already satisfied: requests>=2.19 in /opt/conda/lib/python3.8/site-packages (from qiskit-ibmq-provider==0.19.2->qiskit) (2.27.1)\n",
      "Requirement already satisfied: python-dateutil>=2.8.0 in /opt/conda/lib/python3.8/site-packages (from qiskit-ibmq-provider==0.19.2->qiskit) (2.8.2)\n",
      "Requirement already satisfied: requests-ntlm>=1.1.0 in /opt/conda/lib/python3.8/site-packages (from qiskit-ibmq-provider==0.19.2->qiskit) (1.1.0)\n",
      "Requirement already satisfied: websocket-client>=1.0.1 in /opt/conda/lib/python3.8/site-packages (from qiskit-ibmq-provider==0.19.2->qiskit) (1.3.2)\n",
      "Requirement already satisfied: websockets>=10.0 in /opt/conda/lib/python3.8/site-packages (from qiskit-ibmq-provider==0.19.2->qiskit) (10.4)\n",
      "Requirement already satisfied: psutil>=5 in /opt/conda/lib/python3.8/site-packages (from qiskit-terra==0.22.2->qiskit) (5.9.0)\n",
      "Requirement already satisfied: symengine>=0.9 in /opt/conda/lib/python3.8/site-packages (from qiskit-terra==0.22.2->qiskit) (0.9.2)\n",
      "Requirement already satisfied: dill>=0.3 in /opt/conda/lib/python3.8/site-packages (from qiskit-terra==0.22.2->qiskit) (0.3.4)\n",
      "Requirement already satisfied: ply>=3.10 in /opt/conda/lib/python3.8/site-packages (from qiskit-terra==0.22.2->qiskit) (3.11)\n",
      "Requirement already satisfied: sympy>=1.3 in /opt/conda/lib/python3.8/site-packages (from qiskit-terra==0.22.2->qiskit) (1.10.1)\n",
      "Requirement already satisfied: tweedledum<2.0,>=1.1 in /opt/conda/lib/python3.8/site-packages (from qiskit-terra==0.22.2->qiskit) (1.1.1)\n",
      "Requirement already satisfied: stevedore>=3.0.0 in /opt/conda/lib/python3.8/site-packages (from qiskit-terra==0.22.2->qiskit) (3.5.0)\n",
      "Requirement already satisfied: retworkx>=0.11.0 in /opt/conda/lib/python3.8/site-packages (from qiskit-terra==0.22.2->qiskit) (0.11.0)\n",
      "Requirement already satisfied: six>=1.5 in /opt/conda/lib/python3.8/site-packages (from python-dateutil>=2.8.0->qiskit-ibmq-provider==0.19.2->qiskit) (1.16.0)\n",
      "Requirement already satisfied: certifi>=2017.4.17 in /opt/conda/lib/python3.8/site-packages (from requests>=2.19->qiskit-ibmq-provider==0.19.2->qiskit) (2021.10.8)\n",
      "Requirement already satisfied: charset-normalizer~=2.0.0 in /opt/conda/lib/python3.8/site-packages (from requests>=2.19->qiskit-ibmq-provider==0.19.2->qiskit) (2.0.12)\n",
      "Requirement already satisfied: idna<4,>=2.5 in /opt/conda/lib/python3.8/site-packages (from requests>=2.19->qiskit-ibmq-provider==0.19.2->qiskit) (3.3)\n",
      "Requirement already satisfied: ntlm-auth>=1.0.2 in /opt/conda/lib/python3.8/site-packages (from requests-ntlm>=1.1.0->qiskit-ibmq-provider==0.19.2->qiskit) (1.5.0)\n",
      "Requirement already satisfied: cryptography>=1.3 in /opt/conda/lib/python3.8/site-packages (from requests-ntlm>=1.1.0->qiskit-ibmq-provider==0.19.2->qiskit) (36.0.2)\n",
      "Requirement already satisfied: cffi>=1.12 in /opt/conda/lib/python3.8/site-packages (from cryptography>=1.3->requests-ntlm>=1.1.0->qiskit-ibmq-provider==0.19.2->qiskit) (1.15.0)\n",
      "Requirement already satisfied: pycparser in /opt/conda/lib/python3.8/site-packages (from cffi>=1.12->cryptography>=1.3->requests-ntlm>=1.1.0->qiskit-ibmq-provider==0.19.2->qiskit) (2.21)\n",
      "Requirement already satisfied: pbr!=2.1.0,>=2.0.0 in /opt/conda/lib/python3.8/site-packages (from stevedore>=3.0.0->qiskit-terra==0.22.2->qiskit) (5.8.1)\n",
      "Requirement already satisfied: mpmath>=0.19 in /opt/conda/lib/python3.8/site-packages (from sympy>=1.3->qiskit-terra==0.22.2->qiskit) (1.2.1)\n"
     ]
    }
   ],
   "source": [
    "!pip install qiskit\n",
    "\n",
    "import numpy as np\n",
    "\n",
    "from qiskit import QuantumCircuit, assemble, Aer\n",
    "from qiskit.visualization import plot_histogram\n",
    "from qiskit.tools.visualization import circuit_drawer, array_to_latex\n",
    "from qiskit import QuantumRegister, ClassicalRegister, QuantumCircuit\n",
    "import qiskit.quantum_info as qi\n",
    "from qiskit.quantum_info import Statevector"
   ]
  },
  {
   "cell_type": "code",
   "execution_count": 2,
   "id": "2a9af4fa-2dfb-4efd-add1-1cda0aa54abf",
   "metadata": {},
   "outputs": [
    {
     "data": {
      "image/png": "[encoded data removed]",
      "text/plain": [
       "<Figure size 568.052x204.68 with 1 Axes>"
      ]
     },
     "execution_count": 2,
     "metadata": {},
     "output_type": "execute_result"
    }
   ],
   "source": [
    "from qiskit import QuantumRegister, ClassicalRegister, QuantumCircuit\n",
    "from numpy import pi\n",
    "\n",
    "## Test circuit\n",
    "qreg_q = QuantumRegister(2, 'q')\n",
    "creg_c = ClassicalRegister(2, 'c')\n",
    "circuit = QuantumCircuit(qreg_q, creg_c)\n",
    "\n",
    "circuit.rx(pi, qreg_q[0])\n",
    "circuit.ry(pi / 2, qreg_q[1])\n",
    "circuit.rx(-pi / 2, qreg_q[0])\n",
    "circuit.cx(qreg_q[1], qreg_q[0])\n",
    "circuit.rz(pi / 5, qreg_q[0])\n",
    "circuit.cx(qreg_q[1], qreg_q[0])\n",
    "circuit.rx(pi / 2, qreg_q[0])\n",
    "circuit.ry(-pi / 2, qreg_q[1])\n",
    "circuit.measure(qreg_q[1], creg_c[1])\n",
    "circuit.measure(qreg_q[0], creg_c[0])\n",
    "\n",
    "circuit.draw()"
   ]
  },
  {
   "cell_type": "code",
   "execution_count": 3,
   "id": "ca54c1a4-ebdd-4b9e-879f-3231dfb6d518",
   "metadata": {},
   "outputs": [
    {
     "name": "stderr",
     "output_type": "stream",
     "text": [
      "<frozen importlib._bootstrap>:219: RuntimeWarning: scipy._lib.messagestream.MessageStream size changed, may indicate binary incompatibility. Expected 56 from C header, got 64 from PyObject\n"
     ]
    },
    {
     "name": "stdout",
     "output_type": "stream",
     "text": [
      "{'10': 952, '01': 9048}\n"
     ]
    }
   ],
   "source": [
    "## Test simulation\n",
    "sim = Aer.get_backend('aer_simulator')\n",
    "res = sim.run(circuit, shots=10000).result()\n",
    "counts = res.get_counts()\n",
    "plot_histogram(counts)\n",
    "print(counts)"
   ]
  },
  {
   "cell_type": "code",
   "execution_count": 4,
   "id": "0d1afb3c-1338-4f92-b484-152e5dd6fbb3",
   "metadata": {},
   "outputs": [
    {
     "name": "stdout",
     "output_type": "stream",
     "text": [
      "[[ 1  0  0  0]\n",
      " [ 0 -1  0  0]\n",
      " [ 0  0  1  0]\n",
      " [ 0  0  0 -1]]\n",
      "[[ 1  0  0  0]\n",
      " [ 0  1  0  0]\n",
      " [ 0  0 -1  0]\n",
      " [ 0  0  0 -1]]\n",
      "[[ 1  0  0  0]\n",
      " [ 0 -1  0  0]\n",
      " [ 0  0 -1  0]\n",
      " [ 0  0  0  1]]\n",
      "[[0 0 0 1]\n",
      " [0 0 1 0]\n",
      " [0 1 0 0]\n",
      " [1 0 0 0]]\n",
      "[[ 0. -0. -0.  1.]\n",
      " [ 0.  0. -1. -0.]\n",
      " [ 0. -1.  0. -0.]\n",
      " [ 1.  0.  0.  0.]]\n"
     ]
    }
   ],
   "source": [
    "## Define and calculate operation matrices\n",
    "RZ = np.array([[1, 0],\n",
    "               [0, -1]])\n",
    "RX = np.array([[0, 1],\n",
    "               [1, 0]])\n",
    "RY = np.array([[0, np.imag(0 - 1j)],\n",
    "               [np.imag(0 + 1j), 0]])\n",
    "I = np.array([[1, 0],\n",
    "              [0, 1]])\n",
    "Z0 = np.kron(I, RZ)\n",
    "Z1 = np.kron(RZ, I)\n",
    "Z0Z1 = np.kron(RZ, RZ)\n",
    "X0X1 = np.kron(RX, RX)\n",
    "Y0Y1 = np.kron(RY, RY)\n",
    "\n",
    "print(Z0)\n",
    "print(Z1)\n",
    "print(Z0Z1)\n",
    "print(X0X1)\n",
    "print(Y0Y1)"
   ]
  },
  {
   "cell_type": "code",
   "execution_count": 5,
   "id": "66af1a7f-5aab-4b0e-990f-eaef56976b14",
   "metadata": {},
   "outputs": [
    {
     "name": "stdout",
     "output_type": "stream",
     "text": [
      "[0 0 1 0]\n",
      "[0 1 0 0]\n",
      "[ 0. -1.  0.  0.]\n",
      "[[ 1  0  0  0]\n",
      " [ 0 -1  0  0]\n",
      " [ 0  0 -1  0]\n",
      " [ 0  0  0  1]]\n"
     ]
    }
   ],
   "source": [
    "# Test operation matrices\n",
    "v = np.array([0, 0, 1, 0])\n",
    "print(np.matmul(v, Z0))\n",
    "print(np.matmul(v, X0X1))\n",
    "print(np.matmul(v, Y0Y1))\n",
    "print(Z0Z1)"
   ]
  },
  {
   "cell_type": "code",
   "execution_count": 6,
   "id": "4535a0ee-aa87-49ea-8686-1699d8da30c5",
   "metadata": {},
   "outputs": [],
   "source": [
    "## Import Hamiltonian Coefficients\n",
    "Hc=[[0.20,2.8489,0.5678,-1.4508,0.6799,0.0791,0.0791\n",
    "],[0.25,2.1868,0.5449,-1.2870,0.6719,0.0798,0.0798\n",
    "],[0.30,1.7252,0.5215,-1.1458,0.6631,0.0806,0.0806\n",
    "],[0.35,1.3827,0.4982,-1.0226,0.6537,0.0815,0.0815\n",
    "],[0.40,-0.2047,0.4754,-0.9145,0.6438,0.0825,0.0825\n",
    "],[0.45,-0.2677,0.4534,-0.8194,0.6336,0.0835,0.0835\n",
    "],[0.50,-0.3202,0.4325,-0.7355,0.6233,0.0846,0.0846\n",
    "],[0.55,-0.3642,0.4125,-0.6612,0.6129,0.0858,0.0858\n",
    "],[0.60,-0.4012,0.3937,-0.5950,0.6025,0.0870,0.0870\n",
    "],[0.65,-0.4323,0.3760,-0.5358,0.5921,0.0883,0.0883\n",
    "],[0.70,-0.4584,0.3593,-0.4826,0.5818,0.0896,0.0896\n",
    "],[0.75,-0.4804,0.3435,-0.4347,0.5716,0.0910,0.0910\n",
    "],[0.80,-0.4989,0.3288,-0.3915,0.5616,0.0925,0.0925\n",
    "],[0.85,-0.5143,0.3149,-0.3523,0.5518,0.0939,0.0939\n",
    "],[0.90,-0.5271,0.3018,-0.3168,0.5421,0.0954,0.0954\n",
    "],[0.95,-0.5377,0.2895,-0.2845,0.5327,0.0970,0.0970\n",
    "],[1.00,-0.5463,0.2779,-0.2550,0.5235,0.0986,0.0986\n",
    "],[1.05,-0.5533,0.2669,-0.2282,0.5146,0.1002,0.1002\n",
    "],[1.10,-0.5588,0.2565,-0.2036,0.5059,0.1018,0.1018\n",
    "],[1.15,-0.5631,0.2467,-0.1810,0.4974,0.1034,0.1034\n",
    "],[1.20,-0.5663,0.2374,-0.1603,0.4892,0.1050,0.1050\n",
    "],[1.25,-0.5685,0.2286,-0.1413,0.4812,0.1067,0.1067\n",
    "],[1.30,-0.5699,0.2203,-0.1238,0.4735,0.1083,0.1083\n",
    "],[1.35,-0.5706,0.2123,-0.1077,0.4660,0.1100,0.1100\n",
    "],[1.40,-0.5707,0.2048,-0.0929,0.4588,0.1116,0.1116\n",
    "],[1.45,-0.5702,0.1976,-0.0792,0.4518,0.1133,0.1133\n",
    "],[1.50,-0.5693,0.1908,-0.0666,0.4451,0.1149,0.1149\n",
    "],[1.55,-0.5679,0.1843,-0.0549,0.4386,0.1165,0.1165\n",
    "],[1.60,-0.5663,0.1782,-0.0442,0.4323,0.1181,0.1181\n",
    "],[1.65,-0.5643,0.1723,-0.0342,0.4262,0.1196,0.1196\n",
    "],[1.70,-0.5621,0.1667,-0.0251,0.4204,0.1211,0.1211\n",
    "],[1.75,-0.5597,0.1615,-0.0166,0.4148,0.1226,0.1226\n",
    "],[1.80,-0.5571,0.1565,-0.0088,0.4094,0.1241,0.1241\n",
    "],[1.85,-0.5544,0.1517,-0.0015,0.4042,0.1256,0.1256\n",
    "],[1.90,-0.5516,0.1472,0.0052,0.3992,0.1270,0.1270\n",
    "],[1.95,-0.5488,0.1430,0.0114,0.3944,0.1284,0.1284\n",
    "],[2.00,-0.5458,0.1390,0.0171,0.3898,0.1297,0.1297\n",
    "],[2.05,-0.5429,0.1352,0.0223,0.3853,0.1310,0.1310\n",
    "],[2.10,-0.5399,0.1316,0.0272,0.3811,0.1323,0.1323\n",
    "],[2.15,-0.5369,0.1282,0.0317,0.3769,0.1335,0.1335\n",
    "],[2.20,-0.5339,0.1251,0.0359,0.3730,0.1347,0.1347\n",
    "],[2.25,-0.5310,0.1221,0.0397,0.3692,0.1359,0.1359\n",
    "],[2.30,-0.5280,0.1193,0.0432,0.3655,0.1370,0.1370\n",
    "],[2.35,-0.5251,0.1167,0.0465,0.3620,0.1381,0.1381\n",
    "],[2.40,-0.5223,0.1142,0.0495,0.3586,0.1392,0.1392\n",
    "],[2.45,-0.5195,0.1119,0.0523,0.3553,0.1402,0.1402\n",
    "],[2.50,-0.5168,0.1098,0.0549,0.3521,0.1412,0.1412\n",
    "],[2.55,-0.5141,0.1078,0.0572,0.3491,0.1422,0.1422\n",
    "],[2.60,-0.5114,0.1059,0.0594,0.3461,0.1432,0.1432\n",
    "],[2.65,-0.5089,0.1042,0.0614,0.3433,0.1441,0.1441\n",
    "],[2.70,-0.5064,0.1026,0.0632,0.3406,0.1450,0.1450\n",
    "],[2.75,-0.5039,0.1011,0.0649,0.3379,0.1458,0.1458\n",
    "],[2.80,-0.5015,0.0997,0.0665,0.3354,0.1467,0.1467\n",
    "],[2.85,-0.4992,0.0984,0.0679,0.3329,0.1475,0.1475]]"
   ]
  },
  {
   "cell_type": "code",
   "execution_count": 7,
   "id": "6c832cea-f98f-439e-b48d-ecd3347dc6a7",
   "metadata": {},
   "outputs": [
    {
     "name": "stdout",
     "output_type": "stream",
     "text": [
      "[[ 1.11022302e-16  0.00000000e+00  0.00000000e+00  1.82000000e-01]\n",
      " [ 0.00000000e+00 -1.83020000e+00  0.00000000e+00  0.00000000e+00]\n",
      " [ 0.00000000e+00  0.00000000e+00 -2.73800000e-01  0.00000000e+00]\n",
      " [ 1.82000000e-01  0.00000000e+00  0.00000000e+00  1.82400000e-01]]\n"
     ]
    }
   ],
   "source": [
    "# Test energy calculation\n",
    "for i in Hc:\n",
    "    if i[0] == 0.75:\n",
    "        g0 = i[1]\n",
    "        g1 = i[2]\n",
    "        g2 = i[3]\n",
    "        g3 = i[4]\n",
    "        g4 = i[5]\n",
    "        g5 = i[6]\n",
    "\n",
    "Hmol = (g0 * np.kron( I, I) + # g0 * I\n",
    "g1 * Z0 +\n",
    "g2 * Z1 +\n",
    "g3 * Z0Z1 +\n",
    "g4 * Y0Y1 +\n",
    "g5 * X0X1)\n",
    "\n",
    "print(Hmol)"
   ]
  },
  {
   "cell_type": "code",
   "execution_count": 8,
   "id": "69c30aaf-5061-4966-b094-5e9aaeb375f8",
   "metadata": {},
   "outputs": [
    {
     "name": "stdout",
     "output_type": "stream",
     "text": [
      "[{'10': 10000}, {'01': 57, '10': 9943}, {'01': 227, '10': 9773}, {'01': 572, '10': 9428}, {'01': 964, '10': 9036}, {'01': 1460, '10': 8540}, {'01': 2136, '10': 7864}, {'10': 7246, '01': 2754}, {'10': 6428, '01': 3572}, {'01': 4344, '10': 5656}, {'10': 4916, '01': 5084}, {'10': 4112, '01': 5888}, {'10': 3350, '01': 6650}, {'10': 2632, '01': 7368}, {'10': 1925, '01': 8075}, {'10': 1405, '01': 8595}, {'10': 814, '01': 9186}, {'10': 472, '01': 9528}, {'10': 192, '01': 9808}, {'10': 30, '01': 9970}, {'10': 5, '01': 9995}, {'10': 113, '01': 9887}, {'10': 291, '01': 9709}, {'10': 647, '01': 9353}, {'10': 1119, '01': 8881}, {'10': 1639, '01': 8361}, {'10': 2305, '01': 7695}, {'01': 6993, '10': 3007}, {'01': 6320, '10': 3680}, {'01': 5530, '10': 4470}, {'01': 4732, '10': 5268}, {'10': 6109, '01': 3891}, {'01': 3201, '10': 6799}, {'10': 7563, '01': 2437}, {'01': 1835, '10': 8165}, {'10': 8808, '01': 1192}, {'01': 729, '10': 9271}, {'01': 381, '10': 9619}, {'01': 141, '10': 9859}, {'01': 15, '10': 9985}, {'01': 25, '10': 9975}, {'01': 118, '10': 9882}, {'01': 396, '10': 9604}, {'10': 9167, '01': 833}, {'01': 1212, '10': 8788}, {'01': 1793, '10': 8207}, {'01': 2540, '10': 7460}, {'01': 3159, '10': 6841}, {'01': 3909, '10': 6091}, {'10': 5252, '01': 4748}, {'01': 5478, '10': 4522}, {'10': 3796, '01': 6204}, {'10': 2921, '01': 7079}, {'10': 2310, '01': 7690}, {'10': 1655, '01': 8345}, {'10': 1049, '01': 8951}, {'10': 676, '01': 9324}, {'10': 279, '01': 9721}, {'10': 87, '01': 9913}, {'10': 6, '01': 9994}, {'10': 34, '01': 9966}, {'10': 186, '01': 9814}, {'10': 449, '01': 9551}, {'10': 896, '01': 9104}, {'10': 1362, '01': 8638}, {'10': 1989, '01': 8011}, {'01': 7394, '10': 2606}, {'10': 3395, '01': 6605}, {'10': 4166, '01': 5834}, {'01': 5020, '10': 4980}, {'10': 5760, '01': 4240}, {'10': 6473, '01': 3527}, {'01': 2850, '10': 7150}, {'01': 2115, '10': 7885}, {'01': 1441, '10': 8559}, {'01': 911, '10': 9089}, {'01': 524, '10': 9476}, {'01': 235, '10': 9765}, {'01': 54, '10': 9946}, {'10': 10000}, {'01': 56, '10': 9944}, {'01': 257, '10': 9743}, {'01': 563, '10': 9437}, {'01': 989, '10': 9011}, {'01': 1463, '10': 8537}, {'01': 2157, '10': 7843}, {'10': 7184, '01': 2816}, {'01': 3591, '10': 6409}, {'10': 5571, '01': 4429}, {'10': 4796, '01': 5204}, {'01': 5919, '10': 4081}, {'01': 6667, '10': 3333}, {'10': 2679, '01': 7321}, {'10': 1913, '01': 8087}, {'10': 1316, '01': 8684}, {'10': 790, '01': 9210}, {'01': 9555, '10': 445}, {'10': 179, '01': 9821}, {'10': 33, '01': 9967}, {'10': 11, '01': 9989}]\n"
     ]
    }
   ],
   "source": [
    "## Iterating through theta's\n",
    "\n",
    "## run simulation\n",
    "def get_energy(cir):\n",
    "    sim = Aer.get_backend('aer_simulator')\n",
    "    res = sim.run(cir, shots=10000).result()\n",
    "    counts = res.get_counts()\n",
    "    return counts\n",
    "\n",
    "\n",
    "r = []\n",
    "for i in range(100):\n",
    "    theta = -pi+i/(2*pi)\n",
    "    ## Redefining circuit\n",
    "    qreg_q = QuantumRegister(2, 'q')\n",
    "    creg_c = ClassicalRegister(2, 'c')\n",
    "    circuit = QuantumCircuit(qreg_q, creg_c)\n",
    "\n",
    "    circuit.rx(pi, qreg_q[0])\n",
    "    circuit.ry(pi / 2, qreg_q[1])\n",
    "    circuit.rx(-pi / 2, qreg_q[0])\n",
    "    circuit.cx(qreg_q[1], qreg_q[0])\n",
    "    circuit.rz(theta, qreg_q[0])\n",
    "    circuit.cx(qreg_q[1], qreg_q[0])\n",
    "    circuit.rx(pi / 2, qreg_q[0])\n",
    "    circuit.ry(-pi / 2, qreg_q[1])\n",
    "    circuit.measure(qreg_q[1], creg_c[1])\n",
    "    circuit.measure(qreg_q[0], creg_c[0])\n",
    "    \n",
    "    r.append(get_energy(circuit))\n",
    "print(r)\n"
   ]
  },
  {
   "cell_type": "code",
   "execution_count": null,
   "id": "b8c6f47f-8042-4ded-8125-78b73e432d37",
   "metadata": {},
   "outputs": [],
   "source": []
  }
 ],
 "metadata": {
  "kernelspec": {
   "display_name": "Python 3 (ipykernel)",
   "language": "python",
   "name": "python3"
  },
  "language_info": {
   "codemirror_mode": {
    "name": "ipython",
    "version": 3
   },
   "file_extension": ".py",
   "mimetype": "text/x-python",
   "name": "python",
   "nbconvert_exporter": "python",
   "pygments_lexer": "ipython3",
   "version": "3.8.13"
  },
  "widgets": {
   "application/vnd.jupyter.widget-state+json": {
    "state": {},
    "version_major": 2,
    "version_minor": 0
   }
  }
 },
 "nbformat": 4,
 "nbformat_minor": 5
}
